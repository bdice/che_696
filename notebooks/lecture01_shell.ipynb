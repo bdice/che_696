{
 "cells": [
  {
   "cell_type": "markdown",
   "metadata": {},
   "source": [
    "# Intro to basic text-based computer interfaces\n",
    "\n",
    "*Related text*: Chapter 1 of [Introduction to Scientific and Technical Computing](http://www.crcnetbase.com/isbn/978-1-4987-4506-2)\n",
    "\n",
    "Before we get into programming with python, we'll cover interacting with computers using bash, a convient and fast route to file handing and much more."
   ]
  },
  {
   "cell_type": "markdown",
   "metadata": {},
   "source": [
    "# Shell overview\n",
    "\n",
    "Many of the programs we use have GUIs: Graphical User Interfaces. Direct text input can often save quite a bit of time and allow additional functionality. While the tasks in this class will be able to be completed on a laptop or desktop (in any operating system), scientific computing generally requires larger, remote resources that are typically Unix or Unix-like systems. In those systems, the primary mode of user iteraction with the operating system is via text-based **shell** processes.\n",
    "\n",
    "There are several different types of shells, including csh/tcsh, sh/Bash, ksh, and zsh. The most common type, and the only one we will discuss is **bash**, the Bourne-again shell. The associated reeading gives more detail on why bash is the way to go. \n",
    "    *FYI:* if you are given an account on a Unix-based computer, the default shell assigned is usually bash, but this is an option you can change. Look to resources like https://stackoverflow.com/ will give you instructions to implement that.\n",
    "\n",
    "Mac OSX is built on a Unix platform and has a built-in program, *terminal*, that provides shell. The default type is bash. The preferences will allow you to change to another type. For this class, we'll stick with bash as it the one that will likely serve you best.\n",
    "    *FYI:* bash on OSX is mostly the same as bash on a Linux machine, but there are a few differences (e.g., see https://unix.stackexchange.com/questions/82244/bash-in-linux-v-s-mac-os). This is good to remember if you see different behavior for the same command on these two types of machines.\n",
    "    \n",
    "Windows computers do not have a built-in Unix-like shell, but have shell emulators. There are many options, including https://www.putty.org/. Windows 10 now allows you to install Linux (see, for example, https://docs.microsoft.com/en-us/windows/wsl/install-win10) which is another route to get you to a bash shell.\n",
    "\n",
    "For the first homework, you will need to write and run bash commands. \n",
    "\n",
    "You will find bash scripts and commands useful throughout this course. They can even be invoked from within a python program."
   ]
  },
  {
   "cell_type": "markdown",
   "metadata": {},
   "source": [
    "# Some basic, extremely useful bash commands\n",
    "\n",
    "First, open a bash session (e.g. launch terminal on your mac).\n",
    "\n",
    "Type `pwd`. What do you see?\n",
    "\n"
   ]
  },
  {
   "cell_type": "raw",
   "metadata": {},
   "source": [
    "def f(x):\n",
    "    \"\"\"a docstring\"\"\"\n",
    "    return x**2"
   ]
  },
  {
   "cell_type": "markdown",
   "metadata": {},
   "source": [
    "# "
   ]
  }
 ],
 "metadata": {
  "kernelspec": {
   "display_name": "Python 3",
   "language": "python",
   "name": "python3"
  },
  "language_info": {
   "codemirror_mode": {
    "name": "ipython",
    "version": 3
   },
   "file_extension": ".py",
   "mimetype": "text/x-python",
   "name": "python",
   "nbconvert_exporter": "python",
   "pygments_lexer": "ipython3",
   "version": "3.6.1"
  }
 },
 "nbformat": 4,
 "nbformat_minor": 2
}

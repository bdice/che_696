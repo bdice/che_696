{
 "cells": [
  {
   "cell_type": "markdown",
   "metadata": {},
   "source": [
    "# HW2, practicing with jupyter notebooks\n",
    "\n",
    "For this assignment, you must be able to launch jupyter notebooks (Python 3 flavored) and run latex and python in them. "
   ]
  },
  {
   "cell_type": "markdown",
   "metadata": {
    "collapsed": true
   },
   "source": [
    "\n",
    "## 1. Checking installation\n",
    "\n",
    "i. What version(s) of python do you have installed on the machine you are using to complete this assignment?"
   ]
  },
  {
   "cell_type": "raw",
   "metadata": {},
   "source": []
  },
  {
   "cell_type": "markdown",
   "metadata": {},
   "source": [
    "ii. Where is it/are they installed?"
   ]
  },
  {
   "cell_type": "raw",
   "metadata": {},
   "source": []
  },
  {
   "cell_type": "markdown",
   "metadata": {},
   "source": [
    "## 2.  Setting up jupyter notebooks\n",
    "\n",
    "It will be helpful to have a jupyter notebook open to answer these questions, either the HW02.ipynb or a new notebook you open that will run python version 3.4 or higher.\n",
    "\n",
    "i. What are the modes available to you? What keystrokes allow you to switch between them?"
   ]
  },
  {
   "cell_type": "raw",
   "metadata": {},
   "source": []
  },
  {
   "cell_type": "markdown",
   "metadata": {},
   "source": [
    "ii. What are the types of cells available to you? How can you switch between them?"
   ]
  },
  {
   "cell_type": "raw",
   "metadata": {},
   "source": []
  },
  {
   "cell_type": "markdown",
   "metadata": {},
   "source": [
    "iii. List two other commands that you have found or think you will find useful."
   ]
  },
  {
   "cell_type": "raw",
   "metadata": {},
   "source": []
  },
  {
   "cell_type": "markdown",
   "metadata": {},
   "source": [
    "iv. Convert the following cell to markdown and, using at least four types of markdown plain text formatting syntax, tell me anything about you that you feel comfortable sharing (this can be some of the same things you shared on the first day, like your program and year in the program, or anything else!)."
   ]
  },
  {
   "cell_type": "raw",
   "metadata": {},
   "source": []
  },
  {
   "cell_type": "markdown",
   "metadata": {},
   "source": [
    "v. Using Latex for formatting in the next shell, share your favorite mathematical formula and a sentence about why you like it.\n",
    "\n",
    "*Hint*: Here is a cheat sheet on LaTex math syntax: https://reu.dimacs.rutgers.edu/Symbols.pdf"
   ]
  },
  {
   "cell_type": "raw",
   "metadata": {},
   "source": []
  },
  {
   "cell_type": "markdown",
   "metadata": {},
   "source": [
    "## 3. Python in jupyter notebooks\n",
    "\n",
    "i. In the following cell, define variables that you need to calculate a value from your favorite equation, and then make the calculation referencing those variables. Use comments to identify the equation, and to note the units of all variables you defined."
   ]
  },
  {
   "cell_type": "code",
   "execution_count": null,
   "metadata": {},
   "outputs": [],
   "source": []
  },
  {
   "cell_type": "markdown",
   "metadata": {},
   "source": [
    "ii. Do you get different results if you enter your numbers all as whole numbers (with no decimal points) versus explicitly defining them so that they are rendered as floats? "
   ]
  },
  {
   "cell_type": "code",
   "execution_count": null,
   "metadata": {},
   "outputs": [],
   "source": []
  },
  {
   "cell_type": "markdown",
   "metadata": {},
   "source": [
    "iii. In python, create a list of at least five things or people (represented in string form) that you are grateful for. Sort it and print it. Then add five more things, reverse sort, and print again. Also print the length to make sure you have ten."
   ]
  },
  {
   "cell_type": "code",
   "execution_count": null,
   "metadata": {},
   "outputs": [],
   "source": []
  }
 ],
 "metadata": {
  "kernelspec": {
   "display_name": "Python 3",
   "language": "python",
   "name": "python3"
  },
  "language_info": {
   "codemirror_mode": {
    "name": "ipython",
    "version": 3
   },
   "file_extension": ".py",
   "mimetype": "text/x-python",
   "name": "python",
   "nbconvert_exporter": "python",
   "pygments_lexer": "ipython3",
   "version": "3.6.1"
  }
 },
 "nbformat": 4,
 "nbformat_minor": 2
}

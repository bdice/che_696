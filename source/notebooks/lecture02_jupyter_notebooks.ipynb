{
 "cells": [
  {
   "cell_type": "markdown",
   "metadata": {},
   "source": [
    "# 2 Jupyter notebooks\n",
    "\n",
    "Related link: https://jupyter.readthedocs.io/en/latest/index.html\n",
    "\n",
    "To run jupyter notebooks, you must have python installed. To check if you have it installed, you can type:"
   ]
  },
  {
   "cell_type": "raw",
   "metadata": {},
   "source": [
    "$ which python"
   ]
  },
  {
   "cell_type": "markdown",
   "metadata": {},
   "source": [
    "### If you have python installed:\n",
    "It will tell you were it is installed. Skip to the next cell.\n",
    "\n",
    "Otherwise, nothing will be returned.\n",
    "\n",
    "## If you do not have python installed:\n",
    "\n",
    "I highly recommend using conda to do so. \n",
    "\n",
    "Download and install miniconda for Python3, 32 or 64 bit depending on your system, from <http://conda.pydata.org/miniconda.html>\n",
    "\n",
    "For Windows users, who do not know what to choose for 32 or 64 bit, it is strongly recommended to read the second question of this FAQ first: <http://windows.microsoft.com/en-us/windows/32-bit-and-64-bit-windows>\n",
    "\n",
    "Run the installer and select yes to add conda to the PATH variable.\n",
    "\n",
    "If you have installed from a Linux shell, either open a new shell to have an updated PATH, or update your PATH variable by source ~/.bashrc (or .tcsh, .csh - whichever shell you are using)."
   ]
  },
  {
   "cell_type": "markdown",
   "metadata": {},
   "source": [
    "### Checking your version \n",
    "\n",
    "Now, whether you just installed python or already had it installed, check the version by entering the command `python -V` or `python --version`. Anything 3.4 or above it good for this class."
   ]
  },
  {
   "cell_type": "markdown",
   "metadata": {},
   "source": [
    "## A note on organization\n",
    "\n",
    "It is always easiest to start with organization in mind, rather than make many files and then think about how you want them named and organized. Practice organization with files you use for this class! We will talk more about this at a few different points in this class."
   ]
  },
  {
   "cell_type": "markdown",
   "metadata": {},
   "source": [
    "## Creating a new jupyter notebook\n",
    "\n",
    "Jupyter notebooks (formerly called ipython notebooks) provide convenient platforms for getting to know python, especially for making and going through tutorials. All class notes and homework assignments in this course are created as jupyter notebooks. You will be creating and editing them. Thus, the first step is to see if you have this capability installed already (it likely is). Again, we'll use the `which jupyter` trick to quickly check if you have jupyter installed. If not, install it with conda:"
   ]
  },
  {
   "cell_type": "raw",
   "metadata": {},
   "source": [
    "$ conda install jupyter"
   ]
  },
  {
   "cell_type": "markdown",
   "metadata": {},
   "source": [
    "*FYI*: You can use jupyter notebooks with multiple versions of python, R, and Julia. We will only use python 3 and markdown (simple language for text formatting) in our notebooks for this class. If you are interested in other capability, see https://jupyter.readthedocs.io/en/latest/install-kernel.html\n",
    "\n",
    "In your terminal window, nativate to a good place for saving jupyter notebooks that you create and edit. Save a copy of `HW01.ipynb` and `lecture01_shell.ipynb` to that directory. You can download it from github or from Canvas. We'll start by exploring these notebooks, as well as creating a new notebook. Launch jupyter notebooks by entering the command:"
   ]
  },
  {
   "cell_type": "raw",
   "metadata": {},
   "source": [
    "$ jupyter notebook"
   ]
  },
  {
   "cell_type": "markdown",
   "metadata": {},
   "source": [
    "You see something like the following in your terminal window:"
   ]
  },
  {
   "cell_type": "raw",
   "metadata": {},
   "source": [
    "truffle:2_notebooks hbmayes$ jupyter notebook\n",
    "[I 17:28:55.267 NotebookApp] Serving notebooks from local directory: /Users/hbmayes/bee/code/latex/che_696_private/practice/2_notebooks\n",
    "[I 17:28:55.267 NotebookApp] 0 active kernels \n",
    "[I 17:28:55.267 NotebookApp] The Jupyter Notebook is running at: http://localhost:8890/?token=89e889e0edd31f172b8d74a30c196a3fac04a0c262395f4d\n",
    "[I 17:28:55.267 NotebookApp] Use Control-C to stop this server and shut down all kernels (twice to skip confirmation)."
   ]
  },
  {
   "cell_type": "markdown",
   "metadata": {},
   "source": [
    "And in your default browser, a new window with a screen like this:\n",
    "\n",
    "![JupyterNotebookLaunch](images/lect02_launch_notebook.png)"
   ]
  },
  {
   "cell_type": "markdown",
   "metadata": {},
   "source": [
    "Click on the \"New\" dropdown. You only need to have python 3 as an option:\n",
    "\n",
    "![JupyterNotebookLaunch](images/lect02_launch_new_notebook.png)\n",
    "\n",
    "Select that option, and a new window with a new notebook will be launched:\n",
    "\n",
    "![JupyterNotebookLaunch](images/lect02_new_notebook.png)\n",
    "\n",
    "Note the dropdown menu with different options for each \"cell\". Change the first cell to \"Markdown\". Type something in the first cell. Rename the file. Save it, then from the file menu, let's select \"Halt and Close\". We'll explore the two existing notebooks before returning to this practice notebook."
   ]
  }
 ],
 "metadata": {
  "kernelspec": {
   "display_name": "Python 3",
   "language": "python",
   "name": "python3"
  },
  "language_info": {
   "codemirror_mode": {
    "name": "ipython",
    "version": 3
   },
   "file_extension": ".py",
   "mimetype": "text/x-python",
   "name": "python",
   "nbconvert_exporter": "python",
   "pygments_lexer": "ipython3",
   "version": "3.6.1"
  }
 },
 "nbformat": 4,
 "nbformat_minor": 2
}

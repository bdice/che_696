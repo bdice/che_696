{
 "cells": [
  {
   "cell_type": "markdown",
   "metadata": {},
   "source": [
    "# 8) Cookie cutter projects and IDES for organized, delightful programming "
   ]
  },
  {
   "cell_type": "markdown",
   "metadata": {},
   "source": [
    "Related links:\n",
    "\n",
    "- https://cookiecutter.readthedocs.io/en/latest/readme.html\n",
    "- https://www.jetbrains.com/help/pycharm/meet-pycharm.html\n",
    "- https://jeffknupp.com/blog/2013/08/16/open-sourcing-a-python-project-the-right-way/"
   ]
  },
  {
   "cell_type": "markdown",
   "metadata": {},
   "source": [
    "### Plan for today: Good programming workflow using python, git, and IDES\n",
    "\n",
    "Last class, I shared a part of a git workflow for good software development, but we were only using text files to simplify learning git. We will build on this today by making a python project. It is always good to start with an idea of the type of input that is expected and the type of output desired. \n",
    "\n",
    "We are going to create a new project that will take a CSV file of data from an arthritis study and then: \n",
    "\n",
    "1. Calculate the average inflammation per day across all patients.\n",
    "1. Plot the result to discuss and share with colleagues.\n",
    "\n",
    "Instead of using a Jupyter notebook do to this, we will create a project using a template to start us off with good organization, and do all our programming using an IDE."
   ]
  },
  {
   "cell_type": "markdown",
   "metadata": {},
   "source": [
    "### Start with a plan\n",
    "\n",
    "It is a good idea to start with an example input and example expected output, and then think about the steps that will connect them.\n",
    "\n",
    "**Example input**: A csv file with inflamation data, with one line per patient, and columns representing different days, e.g., for the first three patients:\n",
    "~~~\n",
    "0,0,1,3,1,2,4,7,8,3,3,3,10,5,7,4,7,7,12,18,6,13,11,11,7,7,4,6,8,8,4,4,5,7,3,4,2,3,0,0\n",
    "0,1,2,1,2,1,3,2,2,6,10,11,5,9,4,4,7,16,8,6,18,4,12,5,12,7,11,5,11,3,3,5,4,4,5,5,1,1,0,1\n",
    "0,1,1,3,3,2,6,2,5,9,5,7,4,5,4,15,5,11,9,10,19,14,12,17,7,12,11,7,4,2,10,5,4,2,2,3,2,2,1,1\n",
    "~~~\n",
    "\n",
    "**Example output**: It can be helpful to make an example output, e.g. \"by hand\" (what I call doing things in Excel or another method well) on a subset of the data, such as the three lines above. We can tweak the desired output (e.g. how the plot looks) but a good idea of the end goal is very useful.\n",
    "![Inflamation data](images/lect08_test_patient_info.png)"
   ]
  },
  {
   "cell_type": "markdown",
   "metadata": {},
   "source": [
    "### Rough plan:\n",
    "1. Read in data\n",
    "2. Calculate average, min, and max values per patient\n",
    "3. Plot resuls\n",
    "\n",
    "In the process, we will be learning about numpy, IDEs, reading and writing data, and more!"
   ]
  },
  {
   "cell_type": "markdown",
   "metadata": {},
   "source": [
    "**Note**: This walk-through can serve as excellent example of the type of project that you will turn in by November 18 (feel free to turn it in earlier). The main idea is for you to write a well-structured python program to complete some task that will be helpful for you in your classes or research. More details about this project, which will be due Nov. 21, will be posted at the same time as HW05, on Monday, October 1."
   ]
  },
  {
   "cell_type": "markdown",
   "metadata": {},
   "source": [
    "## Getting started\n",
    "\n",
    "You likely already completed the first required steps: downloaded the professional version of IntelliJ from the link https://www.jetbrains.com/student/:\n",
    "\n",
    "![Apply for free IntelliJ](images/lect07_jetbrains-free.png)\n",
    "...\n",
    "![Product options](images/lect07_jetbrains-products.png)"
   ]
  },
  {
   "cell_type": "markdown",
   "metadata": {},
   "source": [
    "We won't be starting from an empty project, but instead a cookie-cutter project that has a set of files and organizing directories. To download it, you will need to install:\n",
    "\n",
    "~~~\n",
    "conda install cookiecutter\n",
    "~~~"
   ]
  },
  {
   "cell_type": "markdown",
   "metadata": {},
   "source": [
    "## Cookiecutter FTW\n",
    "\n",
    "![Cookiecutter](images/lect07_cookiecutter.png)\n",
    "\n",
    "Wouldn't it be nice to set up a project with all the files you normally want to have (e.g LICENSE, README, .gitignore with default entries, etc.) and a nice structure for your project? \n",
    "\n",
    "So many want this, and [Cookiecutter](https://cookiecutter.readthedocs.io/en/latest/readme.html) is a library to help you set up your own structure from scratch or [start from a cookiecutter template](https://cookiecutter.readthedocs.io/en/latest/readme.html#available-cookiecutters) started by another group.\n",
    "\n",
    "We'll do the later; it is always a good idea to benefit from others' efforts when it will save you some time, and in this case, provide some ideas about what makes a good project structure."
   ]
  },
  {
   "cell_type": "markdown",
   "metadata": {},
   "source": [
    "We'll download a cookiecutter project from a [group](http://www.choderalab.org/) that does computational chemistry and molecular dynamics and cares about [best practices in software development](https://github.com/choderalab/software-development).\n",
    "\n",
    "~~~\n",
    "$ cookiecutter gh:choderalab/cookiecutter-compchem\n",
    "project_name [project_name]: arthritis_proj\n",
    "repo_name [arthritis_proj]: \n",
    "first_module_name [arthritis_proj]: data_proc\n",
    "author_name [Your name (or your organization/company/team)]: hbmayes\n",
    "description [A short description of the project.]: Demo including processing data from csvs \n",
    "Select open_source_license:\n",
    "1 - MIT\n",
    "2 - BSD-3-Clause\n",
    "3 - LGPLv3\n",
    "4 - Not Open Source\n",
    "Choose from 1, 2, 3, 4 (1, 2, 3, 4) [1]: \n",
    "Select dependency_source:\n",
    "1 - Prefer conda-forge over the default anaconda channel with pip fallback\n",
    "2 - Prefer default anaconda channel with pip fallback\n",
    "3 - Dependencies from pip only (no conda)\n",
    "Choose from 1, 2, 3 (1, 2, 3) [1]: \n",
    "Select Include_Windows_continuous_integration:\n",
    "1 - y\n",
    "2 - n\n",
    "Choose from 1, 2 (1, 2) [1]: \n",
    "Initialized empty Git repository in /Users/hbmayes/bee/code/python/arthritis_proj/.git/\n",
    "~~~"
   ]
  },
  {
   "cell_type": "markdown",
   "metadata": {},
   "source": [
    "~~~\n",
    "[master (root-commit) 3d81ff9] Initial commit after Comp. Chem. Cookiecutter creation\n",
    " 30 files changed, 3238 insertions(+)\n",
    " create mode 100644 .codecov.yml\n",
    " create mode 100644 .github/CONTRIBUTING.md\n",
    " create mode 100644 .github/PULL_REQUEST_TEMPLATE.md\n",
    " create mode 100644 .gitignore\n",
    " create mode 100644 .travis.yml\n",
    " create mode 100644 LICENSE\n",
    " create mode 100644 README.md\n",
    " create mode 100644 appveyor.yml\n",
    " create mode 100644 arthritis_proj/__init__.py\n",
    " create mode 100644 arthritis_proj/_version.py\n",
    " create mode 100644 arthritis_proj/data/README.md\n",
    " create mode 100644 arthritis_proj/data/look_and_say.dat\n",
    " create mode 100644 arthritis_proj/data_proc.py\n",
    " create mode 100644 arthritis_proj/tests/__init__.py\n",
    " create mode 100644 arthritis_proj/tests/test_arthritis_proj.py\n",
    " create mode 100644 devtools/README.md\n",
    " create mode 100644 devtools/conda-recipe/bld.bat\n",
    " create mode 100755 devtools/conda-recipe/build.sh\n",
    " create mode 100644 devtools/conda-recipe/meta.yaml\n",
    " create mode 100755 devtools/travis-ci/before_install.sh\n",
    " create mode 100644 docs/Makefile\n",
    " create mode 100644 docs/README.md\n",
    " create mode 100644 docs/_static/README.md\n",
    " create mode 100644 docs/_templates/README.md\n",
    " create mode 100644 docs/conf.py\n",
    " create mode 100644 docs/index.rst\n",
    " create mode 100644 docs/make.bat\n",
    " create mode 100644 setup.cfg\n",
    " create mode 100644 setup.py\n",
    " create mode 100644 versioneer.py\n",
    "~~~"
   ]
  },
  {
   "cell_type": "markdown",
   "metadata": {},
   "source": [
    "## Explore the templated project with IntelliJ\n",
    "\n",
    "Clicking the cube icon at the top of my screen shows me the IntelliJ programs I can open. I can use either IDEA Ultimate or PyCharm. At least previous versions of PyCharm did not include all the functionality in IDEA Ultimate; this may have been fixed. I still use IDEA Ultimate because 1) I have plenty of memory so I can easily load this larger program, and 2) IDEA Ultimate has all the functionality of PyCharm plus support for other languages, and I like having all of that available so I can switch between projects.\n",
    "\n",
    "![Jetbrains toolbox](images/lect07_jetbrains_toolbox.png)"
   ]
  },
  {
   "cell_type": "markdown",
   "metadata": {},
   "source": [
    "*FYI:* The free version for students and faculty is licensed for one year. After a year, you can use any .edu email address to re-up the license.\n",
    "\n",
    "If you are using IntelliJ programs for for-profit projects, then pay the license. Many software development companies buy licenses because it is worth the efficiency boost.\n",
    "![IDEA Ultimate](images/lect07_jetbrains_ultimate.png)"
   ]
  },
  {
   "cell_type": "markdown",
   "metadata": {},
   "source": [
    "Now, let's open the existing project with `Open`.\n",
    "![IDEA Ultimate](images/lect07_idea-open-project.png)"
   ]
  },
  {
   "cell_type": "markdown",
   "metadata": {},
   "source": [
    " FYI: make sure you are opening the top-level folder, the one with the `.git` directory in it.\n",
    "![IDEA Ultimate](images/lect07_idea-open-project2.png)"
   ]
  },
  {
   "cell_type": "markdown",
   "metadata": {},
   "source": [
    "The first time you open IDEA Ultimate, you will get a series of suggestions of what you should do next. In this case, it notes the `.py` extension and recognizes that it has a plug-in to allow  is asking us to install a plug-in that recognizes python syntax. Let's install it!\n",
    "![IDEA Ultimate](images/lect07_idea-install-plugins.png)"
   ]
  },
  {
   "cell_type": "markdown",
   "metadata": {},
   "source": [
    "Before we installed it, there were no events in the `Event Log` (bottom right corner of the screen above. Now that I installed the python plugin, I have some events. I double-click on `Event Log` to see what they are, and follow the recommendation to restart IntelliJ.\n",
    "![IDEA Ultimate](images/lect07_idea-install-restart.png)"
   ]
  },
  {
   "cell_type": "markdown",
   "metadata": {},
   "source": [
    "After doing so, see the nice syntax highlighting in my `.py` file?\n",
    "![IDEA Ultimate](images/lect07_idea-no-interp.png)"
   ]
  },
  {
   "cell_type": "markdown",
   "metadata": {},
   "source": []
  },
  {
   "cell_type": "markdown",
   "metadata": {},
   "source": []
  }
 ],
 "metadata": {
  "kernelspec": {
   "display_name": "Python 3",
   "language": "python",
   "name": "python3"
  },
  "language_info": {
   "codemirror_mode": {
    "name": "ipython",
    "version": 3
   },
   "file_extension": ".py",
   "mimetype": "text/x-python",
   "name": "python",
   "nbconvert_exporter": "python",
   "pygments_lexer": "ipython3",
   "version": "3.6.1"
  }
 },
 "nbformat": 4,
 "nbformat_minor": 2
}

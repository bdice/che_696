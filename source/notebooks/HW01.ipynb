{
 "cells": [
  {
   "cell_type": "markdown",
   "metadata": {},
   "source": [
    "## Problem 1\n",
    "\n",
    "For this problem, you will practice common and helpful bash commands, such as:\n",
    "```\n",
    "ls\n",
    "pwd\n",
    "cd\n",
    "cp\n",
    "rm\n",
    "mv\n",
    "mkdir\n",
    "cat\n",
    "tail \n",
    "head\n",
    "wget\n",
    "grep\n",
    "diff\n",
    "wc -l\n",
    "```\n",
    "and more advanced (and extremely helpful) utilities such as `sed`, `awk`, and `vim`.\n",
    "\n",
    "Write commands to complete the following tasks:\n",
    "i. Create a directory named 'hw01prob01'\n",
    "\n",
    "ii. In that directory create a file named 'hopper_quotes.txt' containing the following text:\n",
    "\n",
    "> To me programming is more than an important practical art. It is also a gigantic undertaking in the foundations of knowledge.\n",
    "\n",
    "> No computer is ever going to ask a new, reasonable question. It takes trained people to do that.\n",
    "\n",
    "> We're flooding people with information. We need to feed it through a processor. A human must turn information into intelligence or knowledge. We've tended to forget that no computer will ever ask a new question.\n",
    "\n",
    "iii.  From the command line, display (on your terminal) the last line of the file.\n",
    "\n",
    "iv. Make a copy of that file, naming it 'hopper_edited.txt'. In that file, from the command line, change every instance of 'is' to 'remains'. Display the full contents of this edited file.\n",
    "\n",
    "v. Make a new file 'combined.txt' with all the contents of 'hopper_quotes.txt' followed by 'hopper_edited.txt'. Display the total number of lines of this new file.\n",
    "\n",
    "vi. Display the contents of the directory 'hw01prob01'. \n",
    "\n",
    "vii. Delete that directory and all its contents."
   ]
  },
  {
   "cell_type": "code",
   "execution_count": null,
   "metadata": {
    "collapsed": true
   },
   "outputs": [],
   "source": []
  }
 ],
 "metadata": {
  "kernelspec": {
   "display_name": "Python 3",
   "language": "python",
   "name": "python3"
  },
  "language_info": {
   "codemirror_mode": {
    "name": "ipython",
    "version": 3
   },
   "file_extension": ".py",
   "mimetype": "text/x-python",
   "name": "python",
   "nbconvert_exporter": "python",
   "pygments_lexer": "ipython3",
   "version": "3.6.1"
  }
 },
 "nbformat": 4,
 "nbformat_minor": 2
}

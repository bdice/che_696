{
 "cells": [
  {
   "cell_type": "markdown",
   "metadata": {},
   "source": [
    "## 13) More NumPy Plus Linear Algebra Fundamentals\n",
    "\n",
    "Related references:\n",
    "\n",
    "- https://jakevdp.github.io/PythonDataScienceHandbook/02.04-computation-on-arrays-aggregates.html\n",
    "- https://jakevdp.github.io/PythonDataScienceHandbook/02.05-computation-on-arrays-broadcasting.html\n",
    "- [Feature Engineering for Machine Learning](https://search.lib.umich.edu/catalog/record/016260792) \n",
    "- [The Manga Guide to Linear Algebra](https://www.safaribooksonline.com/library/view/the-manga-guide/9781457166730/)\n",
    "- [Introduction to Linear Algebra by Gilbert Strang](http://math.mit.edu/~gs/linearalgebra/)"
   ]
  },
  {
   "cell_type": "markdown",
   "metadata": {},
   "source": [
    "## The simplicity of NumPy math\n",
    "\n",
    "As we've discussed, Numpy allows us to perform math with arrays without writing loops, speeding programs and programming. \n",
    "\n",
    "As always, array sizes must be compatible. Binary operations are performed on an element-by-element basis:"
   ]
  },
  {
   "cell_type": "code",
   "execution_count": 1,
   "metadata": {},
   "outputs": [
    {
     "name": "stdout",
     "output_type": "stream",
     "text": [
      "[5 6 7]\n",
      "[ 0  5 10]\n"
     ]
    }
   ],
   "source": [
    "import numpy as np\n",
    "\n",
    "a = np.array([0, 1, 2])\n",
    "b = np.array([5, 5, 5])\n",
    "print(a + b)\n",
    "print(a * b)"
   ]
  },
  {
   "cell_type": "markdown",
   "metadata": {},
   "source": [
    "### Broadcasting\n",
    "\n",
    "We can also perform these operations with a scalar; NumPy will \"broadcast\" it to the correct size for the binary operation. In the case below, it will treat `5` as the ndarray `[5, 5, 5]` while never actually creating such an array."
   ]
  },
  {
   "cell_type": "code",
   "execution_count": 2,
   "metadata": {},
   "outputs": [
    {
     "name": "stdout",
     "output_type": "stream",
     "text": [
      "[5 6 7]\n",
      "[ 0  5 10]\n"
     ]
    }
   ],
   "source": [
    "print(a + 5)\n",
    "print(a * 5)"
   ]
  },
  {
   "cell_type": "markdown",
   "metadata": {},
   "source": [
    "`Broadcasting` can also be done in higher dimensions:"
   ]
  },
  {
   "cell_type": "code",
   "execution_count": 3,
   "metadata": {},
   "outputs": [
    {
     "data": {
      "text/plain": [
       "array([[ 1.,  2.,  3.],\n",
       "       [ 1.,  2.,  3.],\n",
       "       [ 1.,  2.,  3.]])"
      ]
     },
     "execution_count": 3,
     "metadata": {},
     "output_type": "execute_result"
    }
   ],
   "source": [
    "m = np.ones((3, 3))\n",
    "m + a"
   ]
  },
  {
   "cell_type": "code",
   "execution_count": 4,
   "metadata": {},
   "outputs": [
    {
     "name": "stdout",
     "output_type": "stream",
     "text": [
      "[0 1 2]\n",
      "[[5]\n",
      " [5]\n",
      " [5]]\n"
     ]
    }
   ],
   "source": [
    "print(a)\n",
    "print(b.reshape((3, 1)))"
   ]
  },
  {
   "cell_type": "code",
   "execution_count": 5,
   "metadata": {},
   "outputs": [
    {
     "data": {
      "text/plain": [
       "array([[5, 6, 7],\n",
       "       [5, 6, 7],\n",
       "       [5, 6, 7]])"
      ]
     },
     "execution_count": 5,
     "metadata": {},
     "output_type": "execute_result"
    }
   ],
   "source": [
    "a + b.reshape((3, 1))"
   ]
  },
  {
   "cell_type": "markdown",
   "metadata": {},
   "source": [
    "A visual to describe broadcasting:\n",
    "\n",
    "![From PythonDataScienceHandbook](images/lect13_broadcasting.png)\n",
    "\n",
    "The light boxes represent the broadcasted values: again, this extra memory is not actually allocated in the course of the operation, but it can be useful conceptually to imagine that it is."
   ]
  },
  {
   "cell_type": "markdown",
   "metadata": {},
   "source": [
    "### More examples of NumPy's math knowledge"
   ]
  },
  {
   "cell_type": "code",
   "execution_count": 6,
   "metadata": {},
   "outputs": [
    {
     "name": "stdout",
     "output_type": "stream",
     "text": [
      "x     = [1, 2, 4, 10]\n",
      "e^x   = [  2.71828183e+00   7.38905610e+00   5.45981500e+01   2.20264658e+04]\n",
      "2^x   = [    2.     4.    16.  1024.]\n",
      "3^x   = [    3     9    81 59049]\n",
      "ln(x)    = [ 0.          0.69314718  1.38629436  2.30258509]\n",
      "log2(x)  = [ 0.          1.          2.          3.32192809]\n",
      "log10(x) = [ 0.          0.30103     0.60205999  1.        ]\n",
      "sum(x)   = 17\n",
      "min(x)   = 1\n",
      "max(x)   = 17\n",
      "mean(x)  = 4.25\n",
      "std(x)   = 3.49106001094\n"
     ]
    }
   ],
   "source": [
    "x = [1, 2, 4, 10]\n",
    "print(\"x     =\", x)\n",
    "print(\"e^x   =\", np.exp(x))\n",
    "print(\"2^x   =\", np.exp2(x))\n",
    "print(\"3^x   =\", np.power(3, x))\n",
    "print(\"ln(x)    =\", np.log(x))\n",
    "print(\"log2(x)  =\", np.log2(x))\n",
    "print(\"log10(x) =\", np.log10(x))\n",
    "print(\"sum(x)   =\", np.sum(x))\n",
    "print(\"min(x)   =\", np.min(x))\n",
    "print(\"max(x)   =\", np.sum(x))\n",
    "print(\"mean(x)  =\", np.mean(x))\n",
    "print(\"std(x)   =\", np.std(x))"
   ]
  },
  {
   "cell_type": "markdown",
   "metadata": {},
   "source": [
    "### What about math with NaNs?\n",
    "\n",
    "NaN = not a number, and you can specify NaN with np.nan."
   ]
  },
  {
   "cell_type": "code",
   "execution_count": 7,
   "metadata": {},
   "outputs": [
    {
     "name": "stdout",
     "output_type": "stream",
     "text": [
      "[[ 0.80112465  0.78693847  0.28087913  0.5076622 ]\n",
      " [ 0.98987765  0.42932083  0.11248431  0.59235153]\n",
      " [ 0.92880657  0.59126631  0.69073153         nan]]\n"
     ]
    }
   ],
   "source": [
    "m = np.random.random((3, 4))\n",
    "n = np.random.random((4, 3))\n",
    "m[2, 3] = np.nan\n",
    "print(m)"
   ]
  },
  {
   "cell_type": "code",
   "execution_count": 8,
   "metadata": {},
   "outputs": [
    {
     "data": {
      "text/plain": [
       "array([[ 1.0344498 ,  1.53628788,  0.85610662,  1.44420146],\n",
       "       [ 1.46308366,  1.4169669 ,  0.12063538,  1.35875076],\n",
       "       [ 1.30389843,  1.35908355,  1.23925237,         nan]])"
      ]
     },
     "execution_count": 8,
     "metadata": {},
     "output_type": "execute_result"
    }
   ],
   "source": [
    "m + n.T"
   ]
  },
  {
   "cell_type": "code",
   "execution_count": 9,
   "metadata": {},
   "outputs": [
    {
     "data": {
      "text/plain": [
       "array([[ 0.18692253,  0.58969188,  0.1615694 ,  0.47544558],\n",
       "       [ 0.46841605,  0.42401703,  0.00091687,  0.45397775],\n",
       "       [ 0.34838778,  0.45398447,  0.37888064,         nan]])"
      ]
     },
     "execution_count": 9,
     "metadata": {},
     "output_type": "execute_result"
    }
   ],
   "source": [
    "m * n.T"
   ]
  },
  {
   "cell_type": "markdown",
   "metadata": {},
   "source": [
    "Let's check if these other functions work with `np.nan`:"
   ]
  },
  {
   "cell_type": "code",
   "execution_count": 10,
   "metadata": {},
   "outputs": [
    {
     "name": "stdout",
     "output_type": "stream",
     "text": [
      "m     = [[ 0.80112465  0.78693847  0.28087913  0.5076622 ]\n",
      " [ 0.98987765  0.42932083  0.11248431  0.59235153]\n",
      " [ 0.92880657  0.59126631  0.69073153         nan]]\n",
      "e^m   = [[ 2.22804529  2.19666098  1.32429353  1.66140263]\n",
      " [ 2.69090521  1.53621381  1.1190547   1.80823553]\n",
      " [ 2.53148623  1.80627427  1.99517452         nan]]\n",
      "2^m   = [[ 1.74245892  1.7254091   1.214935    1.42174448]\n",
      " [ 1.98601655  1.34659949  1.08108826  1.50770223]\n",
      " [ 1.90370057  1.50656854  1.61410175         nan]]\n",
      "3^m   = [[ 2.41120201  2.37391449  1.3614867   1.74669239]\n",
      " [ 2.96682319  1.6026478   1.13153673  1.91700614]\n",
      " [ 2.77429959  1.91472198  2.13581038         nan]]\n",
      "ln(m)    = [[-0.22173873 -0.23960522 -1.26983085 -0.67793901]\n",
      " [-0.01017393 -0.84555079 -2.18494154 -0.52365503]\n",
      " [-0.07385477 -0.52548876 -0.37000406         nan]]\n",
      "log2(m)  = [[-0.31990136 -0.34567726 -1.83197866 -0.97805924]\n",
      " [-0.01467788 -1.21987194 -3.15220432 -0.75547451]\n",
      " [-0.10654991 -0.75812002 -0.53380302         nan]]\n",
      "log10(m) = [[-0.09629991 -0.10405922 -0.55148053 -0.29442517]\n",
      " [-0.00441848 -0.36721804 -0.94890805 -0.22742049]\n",
      " [-0.03207472 -0.22821687 -0.16069072         nan]]\n",
      "sum(m)   = nan\n",
      "min(m)   = nan\n",
      "max(m)   = nan\n",
      "mean(m)  = nan\n",
      "std(m)   = nan\n"
     ]
    }
   ],
   "source": [
    "print(\"m     =\", m)\n",
    "print(\"e^m   =\", np.exp(m))\n",
    "print(\"2^m   =\", np.exp2(m))\n",
    "print(\"3^m   =\", np.power(3, m))\n",
    "print(\"ln(m)    =\", np.log(m))\n",
    "print(\"log2(m)  =\", np.log2(m))\n",
    "print(\"log10(m) =\", np.log10(m))\n",
    "print(\"sum(m)   =\", np.sum(m))\n",
    "print(\"min(m)   =\", np.min(m))\n",
    "print(\"max(m)   =\", np.max(m))\n",
    "print(\"mean(m)  =\", np.mean(m))\n",
    "print(\"std(m)   =\", np.std(m))"
   ]
  },
  {
   "cell_type": "markdown",
   "metadata": {},
   "source": [
    "Not all did, but there are \"NaN=safe\" versions of functions! That is, they ignore the NaNs and carry on.\n",
    "\n",
    "|Function Name      |   NaN-safe Version  | Description                                      |\n",
    "|-------------------|---------------------|--------------------------------------------------|\n",
    "| ``np.sum``        | ``np.nansum``       | Compute sum of elements                          |\n",
    "| ``np.prod``       | ``np.nanprod``      | Compute product of elements                      |\n",
    "| ``np.mean``       | ``np.nanmean``      | Compute mean of elements                         |\n",
    "| ``np.std``        | ``np.nanstd``       | Compute standard deviation                       |\n",
    "| ``np.var``        | ``np.nanvar``       | Compute variance                                 |\n",
    "| ``np.min``        | ``np.nanmin``       | Find minimum value                               |\n",
    "| ``np.max``        | ``np.nanmax``       | Find maximum value                               |\n",
    "| ``np.argmin``     | ``np.nanargmin``    | Find index of minimum value                      |\n",
    "| ``np.argmax``     | ``np.nanargmax``    | Find index of maximum value                      |\n",
    "| ``np.median``     | ``np.nanmedian``    | Compute median of elements                       |\n",
    "| ``np.percentile`` | ``np.nanpercentile``| Compute rank-based statistics of elements        |\n",
    "| ``np.any``        | N/A                 | Evaluate whether any elements are true (see note)|\n",
    "| ``np.all``        | N/A                 | Evaluate whether all elements are true (see note)|\n",
    "| N/A               | ``np.isnan``        | Test for NaN; returns a boolean array            |\n",
    "\n",
    "*Note*:  NaN, positive infinity and negative infinity evaluate to True because these are not equal to zero."
   ]
  },
  {
   "cell_type": "code",
   "execution_count": 11,
   "metadata": {},
   "outputs": [
    {
     "name": "stdout",
     "output_type": "stream",
     "text": [
      "sum(m)   = 6.71144316762\n",
      "min(m)   = 0.112484309743\n",
      "max(m)   = 0.989877645554\n",
      "mean(m)  = 0.610131197057\n",
      "std(m)   = 0.255826773406\n"
     ]
    }
   ],
   "source": [
    "print(\"sum(m)   =\", np.nansum(m))\n",
    "print(\"min(m)   =\", np.nanmin(m))\n",
    "print(\"max(m)   =\", np.nanmax(m))\n",
    "print(\"mean(m)  =\", np.nanmean(m))\n",
    "print(\"std(m)   =\", np.nanstd(m))"
   ]
  },
  {
   "cell_type": "markdown",
   "metadata": {},
   "source": [
    "These are a few examples, but just ask the Internet if there is anything you need and you'll get an answer, even if that is to use `scipy.special` as we had to for `erfc`. Let's focus on a particular kind of math NumPy knows well: linear algebra."
   ]
  },
  {
   "cell_type": "markdown",
   "metadata": {},
   "source": [
    "## Linear algebra"
   ]
  },
  {
   "cell_type": "markdown",
   "metadata": {},
   "source": [
    "### Overview\n",
    "\n",
    "![What is linear algebra](images/lect13_linear-alg.png)\n",
    "This and other comics from [The Manga Guide to Linear Algebra](https://www.safaribooksonline.com/library/view/the-manga-guide/9781457166730/)\n",
    "\n",
    "Importantly, they are great for solving linear equations, especially those with the same number unknowns and independent equations. They are great for turning problems into forms that are easily solved by computers!"
   ]
  },
  {
   "cell_type": "markdown",
   "metadata": {},
   "source": [
    "![What is linear algebra](images/lect13_linear-alg-overview.png)"
   ]
  },
  {
   "cell_type": "markdown",
   "metadata": {},
   "source": [
    "### Fundamentals\n",
    "\n",
    "#### Inverse Functions\n",
    "\n",
    "![Functions](images/lect13_onto-one2one.png)\n",
    "![Functions](images/lect13_inverse.png)"
   ]
  },
  {
   "cell_type": "markdown",
   "metadata": {},
   "source": [
    "#### Linear Transformations\n",
    "\n",
    "Let $x_i$ and $x_j$ be two arbitrary elements of the set $X$, $c$ be any real number, and $f$ be a function from $X$ to $Y$. $f$ is called a *linear transformation* from $X$ to $Y$ if is satisfies both:\n",
    "\n",
    "1. $f(x_i) + f(x_j) = f(x_i + x_j)$\n",
    "1. $cf(x_i) = f(cx_i)$\n",
    "\n",
    "![Functions](images/lect13_linear-trans.png)"
   ]
  },
  {
   "cell_type": "markdown",
   "metadata": {},
   "source": [
    "#### Permutations\n",
    "\n",
    "Choosing three from n items in a certain order creates a permutation of the chosen items. The number of possible permutations of k objects chosen among n objects is written as: \n",
    "$ _nP_k $\n",
    "The number of ways k objects can be chosen among n possible ones is equal to:\n",
    "$$ _nP_k = \\frac{n!}{(n-k)!} $$"
   ]
  },
  {
   "cell_type": "markdown",
   "metadata": {},
   "source": [
    "#### Combinations\n",
    "\n",
    "Choosing k among n items without considering the order in which they are chosen is called a combination. The number of different ways this can be done is written by using the binomial coefficient notation:\n",
    "$ {n\\choose k} $ or $_nC_r$\n",
    "which is read \"n choose k.\"\n",
    "\n",
    "$$ {n\\choose k} = \\frac{n!}{k!(n-k)!} = \\frac{_nP_k}{k!} $$"
   ]
  },
  {
   "cell_type": "markdown",
   "metadata": {},
   "source": [
    "When the order *doesn't* matter, it is a Combination.\n",
    "\n",
    "When the order *does* matter it is a Permutation.\n",
    "![Basics](images/lect13_permutation.png)\n",
    "A Permutation is an ordered Combination."
   ]
  },
  {
   "cell_type": "markdown",
   "metadata": {},
   "source": [
    "## Matrices\n",
    "\n",
    "![Matrices](images/lect13_matrix.png)\n",
    "![Matrices](images/lect13_matrix1.png)\n",
    "![Matrices](images/lect13_matrix2.png)\n",
    "![Matrices](images/lect13_matrix3.png)\n",
    "![Matrices](images/lect13_matrix4.png)\n",
    "![Matrices](images/lect13_matrix5.png)\n",
    "![Matrices](images/lect13_matrix6.png)"
   ]
  },
  {
   "cell_type": "markdown",
   "metadata": {},
   "source": [
    "### Matrix Addition\n",
    "\n",
    "![Matrices](images/lect13_matrix7.png)"
   ]
  },
  {
   "cell_type": "code",
   "execution_count": 12,
   "metadata": {},
   "outputs": [
    {
     "name": "stdout",
     "output_type": "stream",
     "text": [
      "[[10 10]] [[3 6]]\n"
     ]
    }
   ],
   "source": [
    "a = np.array([[10, 10]])\n",
    "b = np.array([[3, 6]])\n",
    "print(a, b)"
   ]
  },
  {
   "cell_type": "code",
   "execution_count": 13,
   "metadata": {},
   "outputs": [
    {
     "name": "stdout",
     "output_type": "stream",
     "text": [
      "[[7 4]]\n"
     ]
    }
   ],
   "source": [
    "print(a - b)"
   ]
  },
  {
   "cell_type": "markdown",
   "metadata": {},
   "source": [
    "### Scalar Multiplication\n",
    "\n",
    "![Matrices](images/lect13_matrix8.png)"
   ]
  },
  {
   "cell_type": "code",
   "execution_count": 14,
   "metadata": {},
   "outputs": [
    {
     "name": "stdout",
     "output_type": "stream",
     "text": [
      "[[1 2]\n",
      " [3 4]\n",
      " [5 6]]\n"
     ]
    }
   ],
   "source": [
    "c = np.arange(1, 7).reshape((3, 2))\n",
    "print(c)"
   ]
  },
  {
   "cell_type": "code",
   "execution_count": 15,
   "metadata": {},
   "outputs": [
    {
     "name": "stdout",
     "output_type": "stream",
     "text": [
      "[[10 20]\n",
      " [30 40]\n",
      " [50 60]]\n"
     ]
    }
   ],
   "source": [
    "print(10 * c)"
   ]
  },
  {
   "cell_type": "markdown",
   "metadata": {},
   "source": [
    "### Matrix Multiplication\n",
    "\n",
    "![Matrices](images/lect13_matrix9.png)"
   ]
  },
  {
   "cell_type": "code",
   "execution_count": 16,
   "metadata": {},
   "outputs": [
    {
     "name": "stdout",
     "output_type": "stream",
     "text": [
      "[[ 8 -3]\n",
      " [ 2  1]]\n",
      "[[3 1]\n",
      " [1 2]]\n"
     ]
    }
   ],
   "source": [
    "d = np.array([[8, -3], [2, 1]])\n",
    "e = np.array([[3, 1], [1, 2]])\n",
    "print(d)\n",
    "print(e)"
   ]
  },
  {
   "cell_type": "code",
   "execution_count": 17,
   "metadata": {},
   "outputs": [
    {
     "name": "stdout",
     "output_type": "stream",
     "text": [
      "[[24 -3]\n",
      " [ 2  2]]\n",
      "[[24 -3]\n",
      " [ 2  2]]\n"
     ]
    }
   ],
   "source": [
    "print(d * e)\n",
    "print(np.multiply(e, d))"
   ]
  },
  {
   "cell_type": "code",
   "execution_count": 18,
   "metadata": {},
   "outputs": [
    {
     "data": {
      "text/plain": [
       "array([[21,  2],\n",
       "       [ 7,  4]])"
      ]
     },
     "execution_count": 18,
     "metadata": {},
     "output_type": "execute_result"
    }
   ],
   "source": [
    "np.matmul(d, e)"
   ]
  },
  {
   "cell_type": "code",
   "execution_count": 19,
   "metadata": {},
   "outputs": [
    {
     "data": {
      "text/plain": [
       "array([[26, -8],\n",
       "       [12, -1]])"
      ]
     },
     "execution_count": 19,
     "metadata": {},
     "output_type": "execute_result"
    }
   ],
   "source": [
    "np.matmul(e, d)"
   ]
  },
  {
   "cell_type": "markdown",
   "metadata": {},
   "source": [
    "![Matrices](images/lect13_matrix10.png)"
   ]
  },
  {
   "cell_type": "markdown",
   "metadata": {},
   "source": [
    "### Special Matrices\n",
    "\n",
    "![Matrices](images/lect13_matrix11.png)"
   ]
  },
  {
   "cell_type": "markdown",
   "metadata": {},
   "source": [
    "![Matrices](images/lect13_matrix12.png)"
   ]
  },
  {
   "cell_type": "code",
   "execution_count": 20,
   "metadata": {},
   "outputs": [
    {
     "name": "stdout",
     "output_type": "stream",
     "text": [
      "[[2 0]\n",
      " [0 3]]\n"
     ]
    }
   ],
   "source": [
    "f = np.array([[2, 0], [0, 3]])\n",
    "print(f)"
   ]
  },
  {
   "cell_type": "code",
   "execution_count": 21,
   "metadata": {},
   "outputs": [
    {
     "data": {
      "text/plain": [
       "array([[ 8,  0],\n",
       "       [ 0, 27]])"
      ]
     },
     "execution_count": 21,
     "metadata": {},
     "output_type": "execute_result"
    }
   ],
   "source": [
    "np.linalg.matrix_power(f, 3)"
   ]
  },
  {
   "cell_type": "markdown",
   "metadata": {},
   "source": [
    "![Matrices](images/lect13_matrix13.png)"
   ]
  },
  {
   "cell_type": "markdown",
   "metadata": {},
   "source": [
    "#### What is the identity matrix and why is it called that?"
   ]
  },
  {
   "cell_type": "code",
   "execution_count": 22,
   "metadata": {},
   "outputs": [
    {
     "name": "stdout",
     "output_type": "stream",
     "text": [
      "[[ 8 -3]\n",
      " [ 2  1]]\n",
      "[[1 0]\n",
      " [0 1]]\n"
     ]
    }
   ],
   "source": [
    "eye = np.eye(2, dtype=int)\n",
    "print(d)\n",
    "print(eye)"
   ]
  },
  {
   "cell_type": "code",
   "execution_count": 23,
   "metadata": {},
   "outputs": [
    {
     "data": {
      "text/plain": [
       "array([[ 8, -3],\n",
       "       [ 2,  1]])"
      ]
     },
     "execution_count": 23,
     "metadata": {},
     "output_type": "execute_result"
    }
   ],
   "source": [
    "np.matmul(d, eye)"
   ]
  },
  {
   "cell_type": "code",
   "execution_count": 24,
   "metadata": {},
   "outputs": [
    {
     "data": {
      "text/plain": [
       "array([[ 8, -3],\n",
       "       [ 2,  1]])"
      ]
     },
     "execution_count": 24,
     "metadata": {},
     "output_type": "execute_result"
    }
   ],
   "source": [
    "np.matmul(eye, d)"
   ]
  },
  {
   "cell_type": "markdown",
   "metadata": {},
   "source": [
    "![Matrices](images/lect13_matrix14.png)"
   ]
  },
  {
   "cell_type": "markdown",
   "metadata": {},
   "source": [
    "If the product of two square matrices is an identity matrix, then the two factor matrices are inverses of each other. This means that \n",
    "$ \\left( \\begin{array}{ccc}\n",
    "x_{11} & x_{12} \\\\\n",
    "x_{21} & x_{22} \\end{array} \\right) $ is an inverse matrix to \n",
    "$ \\left( \\begin{array}{ccc}\n",
    "1 & 2 \\\\\n",
    "3 & 4 \\end{array} \\right) $  if\n",
    "\n",
    "$$ \\left( \\begin{array}{ccc}\n",
    "1 & 2 \\\\\n",
    "3 & 4 \\end{array} \\right)\n",
    "\\left( \\begin{array}{ccc}\n",
    "x_{11} & x_{12} \\\\\n",
    "x_{21} & x_{22} \\end{array} \\right)\n",
    "= \\left( \\begin{array}{ccc}\n",
    "1 & 0 \\\\\n",
    "0 & 1 \\end{array} \\right) $$"
   ]
  },
  {
   "cell_type": "markdown",
   "metadata": {},
   "source": [
    "![Matrices](images/lect13_matrix15.png)"
   ]
  },
  {
   "cell_type": "markdown",
   "metadata": {},
   "source": [
    "![Matrices](images/lect13_matrix16.png)"
   ]
  },
  {
   "cell_type": "markdown",
   "metadata": {},
   "source": [
    "![Matrices](images/lect13_matrix17.png)"
   ]
  },
  {
   "cell_type": "markdown",
   "metadata": {},
   "source": [
    "Now, using Gaussian elimination (e.g. the sweeping method) find, the inverse matrix of \n",
    "$ \\left( \\begin{array}{ccc}\n",
    "3 & 1 \\\\\n",
    "1 & 2 \\end{array} \\right) $"
   ]
  },
  {
   "cell_type": "code",
   "execution_count": 25,
   "metadata": {},
   "outputs": [
    {
     "name": "stdout",
     "output_type": "stream",
     "text": [
      "[[ 0.4 -0.2]\n",
      " [-0.2  0.6]]\n"
     ]
    }
   ],
   "source": [
    "g = np.array([[3, 1], [1, 2]])\n",
    "h = np.linalg.inv(g)\n",
    "print(h)"
   ]
  },
  {
   "cell_type": "code",
   "execution_count": 26,
   "metadata": {},
   "outputs": [
    {
     "data": {
      "text/plain": [
       "array([[ 1.,  0.],\n",
       "       [ 0.,  1.]])"
      ]
     },
     "execution_count": 26,
     "metadata": {},
     "output_type": "execute_result"
    }
   ],
   "source": [
    "# checking our work\n",
    "np.matmul(g, h)"
   ]
  },
  {
   "cell_type": "code",
   "execution_count": 27,
   "metadata": {},
   "outputs": [
    {
     "data": {
      "text/plain": [
       "array([[ 1.,  0.],\n",
       "       [ 0.,  1.]])"
      ]
     },
     "execution_count": 27,
     "metadata": {},
     "output_type": "execute_result"
    }
   ],
   "source": [
    "np.matmul(h, g)"
   ]
  },
  {
   "cell_type": "markdown",
   "metadata": {},
   "source": [
    "![Matrices](images/lect13_matrix18.png)"
   ]
  },
  {
   "cell_type": "markdown",
   "metadata": {},
   "source": [
    "![Matrices](images/lect13_matrix19.png)"
   ]
  },
  {
   "cell_type": "markdown",
   "metadata": {},
   "source": [
    "![Matrices](images/lect13_matrix20.png)"
   ]
  },
  {
   "cell_type": "markdown",
   "metadata": {},
   "source": [
    "### Calculating determinants\n",
    "\n",
    "From: https://www.mathsisfun.com/algebra/matrix-determinant.html\n",
    "![Matrices](images/lect13_matrix21.png)"
   ]
  },
  {
   "cell_type": "code",
   "execution_count": 28,
   "metadata": {},
   "outputs": [
    {
     "data": {
      "text/plain": [
       "14.000000000000004"
      ]
     },
     "execution_count": 28,
     "metadata": {},
     "output_type": "execute_result"
    }
   ],
   "source": [
    "k = np.array([[4, 6], [3, 8]])\n",
    "np.linalg.det(k)"
   ]
  },
  {
   "cell_type": "markdown",
   "metadata": {},
   "source": [
    "![Matrices](images/lect13_matrix22.png)"
   ]
  },
  {
   "cell_type": "code",
   "execution_count": 29,
   "metadata": {},
   "outputs": [
    {
     "name": "stdout",
     "output_type": "stream",
     "text": [
      "[[ 6  1  1]\n",
      " [ 4 -2  5]\n",
      " [ 2  8  7]]\n"
     ]
    }
   ],
   "source": [
    "m = np.array([[6, 1, 1], [4, -2, 5], [2, 8, 7]])\n",
    "print(m)"
   ]
  },
  {
   "cell_type": "code",
   "execution_count": 30,
   "metadata": {},
   "outputs": [
    {
     "data": {
      "text/plain": [
       "-306.0"
      ]
     },
     "execution_count": 30,
     "metadata": {},
     "output_type": "execute_result"
    }
   ],
   "source": [
    "np.linalg.det(m)"
   ]
  },
  {
   "cell_type": "markdown",
   "metadata": {},
   "source": [
    "![Matrices](images/lect13_matrix23.png)"
   ]
  },
  {
   "cell_type": "markdown",
   "metadata": {},
   "source": [
    "## Next up: Vectors!"
   ]
  }
 ],
 "metadata": {
  "kernelspec": {
   "display_name": "Python 3",
   "language": "python",
   "name": "python3"
  },
  "language_info": {
   "codemirror_mode": {
    "name": "ipython",
    "version": 3
   },
   "file_extension": ".py",
   "mimetype": "text/x-python",
   "name": "python",
   "nbconvert_exporter": "python",
   "pygments_lexer": "ipython3",
   "version": "3.6.1"
  }
 },
 "nbformat": 4,
 "nbformat_minor": 2
}
